{
 "cells": [
  {
   "cell_type": "code",
   "execution_count": 1,
   "source": [
    "import geopandas as gpd\r\n",
    "import rasterio\r\n",
    "from rasterstats import zonal_stats\r\n",
    "from shapely.geometry import Point\r\n"
   ],
   "outputs": [],
   "metadata": {}
  },
  {
   "cell_type": "code",
   "execution_count": 2,
   "source": [
    "# Define the latitude and longitude of the point\r\n",
    "lat = -6.1968  # Example latitude\r\n",
    "lon = 106.8643  # Example longitude\r\n",
    "\r\n",
    "# Create a Point geometry object from the latitude and longitude\r\n",
    "point = Point(lon, lat)\r\n"
   ],
   "outputs": [],
   "metadata": {}
  },
  {
   "cell_type": "code",
   "execution_count": 3,
   "source": [
    "# Load the population raster data\r\n",
    "pop_raster = rasterio.open('C:Users/mwarizmiwafiq/Downloads/Compressed/landscan-global-2021-assets/landscan-global-2021.tif')\r\n",
    "\r\n",
    "other_shapefile = gpd.read_file('../data/idn_bnd_adm0_bps_2017_a.shp')\r\n"
   ],
   "outputs": [],
   "metadata": {}
  },
  {
   "cell_type": "code",
   "execution_count": 4,
   "source": [
    "point_gdf = gpd.GeoDataFrame(geometry=[point], crs=\"EPSG:4326\")\r\n",
    "\r\n",
    "point_gdf = point_gdf.to_crs(3857)\r\n",
    "\r\n",
    "point_gdf['geometry'] = point_gdf['geometry'].buffer(1000)\r\n",
    "\r\n",
    "buffer_gdf = point_gdf.to_crs(4326)\r\n"
   ],
   "outputs": [],
   "metadata": {}
  },
  {
   "cell_type": "code",
   "execution_count": 5,
   "source": [
    "array = pop_raster.read(1)\r\n",
    "affine = pop_raster.transform\r\n",
    "nodata = pop_raster.nodata\r\n",
    "\r\n",
    "zonal = zonal_stats(buffer_gdf, array, affine=affine, nodata=nodata, stats=[\r\n",
    "                    'min', 'max', 'mean', 'median', 'sum'])\r\n",
    "\r\n",
    "print(zonal)\r\n"
   ],
   "outputs": [
    {
     "output_type": "stream",
     "name": "stdout",
     "text": [
      "[{'min': 524.0, 'max': 524.0, 'mean': 524.0, 'sum': 1572.0, 'median': 524.0}]\n"
     ]
    }
   ],
   "metadata": {}
  }
 ],
 "metadata": {
  "orig_nbformat": 4,
  "language_info": {
   "name": "python",
   "version": "3.9.16",
   "mimetype": "text/x-python",
   "codemirror_mode": {
    "name": "ipython",
    "version": 3
   },
   "pygments_lexer": "ipython3",
   "nbconvert_exporter": "python",
   "file_extension": ".py"
  },
  "kernelspec": {
   "name": "python3",
   "display_name": "Python 3.9.16 64-bit ('GIS': conda)"
  },
  "interpreter": {
   "hash": "e1b737e68dddd0a72d6287bf4b1fcb1b62ad925a428884dbf1470bdc94981d78"
  }
 },
 "nbformat": 4,
 "nbformat_minor": 2
}