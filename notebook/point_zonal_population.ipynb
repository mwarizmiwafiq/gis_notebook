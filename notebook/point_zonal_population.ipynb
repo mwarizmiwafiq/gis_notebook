{
 "cells": [
  {
   "cell_type": "code",
   "execution_count": 1,
   "source": [
    "import geopandas as gpd\r\n",
    "import rasterio\r\n",
    "import rasterio.features\r\n",
    "from rasterstats import zonal_stats\r\n",
    "from shapely.geometry import Point\r\n",
    "import matplotlib.pyplot as plt\r\n"
   ],
   "outputs": [],
   "metadata": {}
  },
  {
   "cell_type": "code",
   "execution_count": 2,
   "source": [
    "# Define the latitude and longitude of the point\r\n",
    "lat = -6.24047  # Example latitude\r\n",
    "lon = 106.8302  # Example longitude\r\n",
    "\r\n",
    "# Create a Point geometry object from the latitude and longitude\r\n",
    "point = Point(lon, lat)\r\n"
   ],
   "outputs": [],
   "metadata": {}
  },
  {
   "cell_type": "code",
   "execution_count": 3,
   "source": [
    "# Load the population raster data\r\n",
    "pop_raster = rasterio.open('C:Users/mwarizmiwafiq/Downloads/Compressed/landscan-global-2021-assets/landscan-global-2021.tif')\r\n",
    "\r\n",
    "other_shapefile = gpd.read_file('../data/idn_bnd_adm0_bps_2017_a.shp')\r\n"
   ],
   "outputs": [],
   "metadata": {}
  },
  {
   "cell_type": "code",
   "execution_count": 4,
   "source": [
    "point_gdf = gpd.GeoDataFrame(geometry=[point], crs=\"EPSG:4326\")\r\n",
    "\r\n",
    "point_gdf = point_gdf.to_crs(3857)\r\n",
    "\r\n",
    "point_gdf['geometry'] = point_gdf['geometry'].buffer(2500)\r\n",
    "\r\n",
    "buffer_gdf = point_gdf.to_crs(4326)\r\n"
   ],
   "outputs": [],
   "metadata": {}
  },
  {
   "cell_type": "code",
   "execution_count": 5,
   "source": [
    "array = pop_raster.read(1)\r\n",
    "affine = pop_raster.transform\r\n",
    "nodata = pop_raster.nodata\r\n",
    "\r\n",
    "zonal = zonal_stats(buffer_gdf, array, affine=affine, nodata=nodata, stats=[\r\n",
    "                    'min', 'max', 'mean', 'median', 'sum'])\r\n",
    "\r\n",
    "print(zonal)\r\n"
   ],
   "outputs": [
    {
     "output_type": "error",
     "ename": "NameError",
     "evalue": "name 'zonal_stats' is not defined",
     "traceback": [
      "\u001b[1;31m---------------------------------------------------------------------------\u001b[0m",
      "\u001b[1;31mNameError\u001b[0m                                 Traceback (most recent call last)",
      "Cell \u001b[1;32mIn[5], line 5\u001b[0m\n\u001b[0;32m      2\u001b[0m affine \u001b[38;5;241m=\u001b[39m pop_raster\u001b[38;5;241m.\u001b[39mtransform\n\u001b[0;32m      3\u001b[0m nodata \u001b[38;5;241m=\u001b[39m pop_raster\u001b[38;5;241m.\u001b[39mnodata\n\u001b[1;32m----> 5\u001b[0m zonal \u001b[38;5;241m=\u001b[39m \u001b[43mzonal_stats\u001b[49m(buffer_gdf, array, affine\u001b[38;5;241m=\u001b[39maffine, nodata\u001b[38;5;241m=\u001b[39mnodata, stats\u001b[38;5;241m=\u001b[39m[\n\u001b[0;32m      6\u001b[0m                     \u001b[38;5;124m'\u001b[39m\u001b[38;5;124mmin\u001b[39m\u001b[38;5;124m'\u001b[39m, \u001b[38;5;124m'\u001b[39m\u001b[38;5;124mmax\u001b[39m\u001b[38;5;124m'\u001b[39m, \u001b[38;5;124m'\u001b[39m\u001b[38;5;124mmean\u001b[39m\u001b[38;5;124m'\u001b[39m, \u001b[38;5;124m'\u001b[39m\u001b[38;5;124mmedian\u001b[39m\u001b[38;5;124m'\u001b[39m, \u001b[38;5;124m'\u001b[39m\u001b[38;5;124msum\u001b[39m\u001b[38;5;124m'\u001b[39m])\n\u001b[0;32m      8\u001b[0m \u001b[38;5;28mprint\u001b[39m(zonal)\n",
      "\u001b[1;31mNameError\u001b[0m: name 'zonal_stats' is not defined"
     ]
    }
   ],
   "metadata": {}
  }
 ],
 "metadata": {
  "orig_nbformat": 4,
  "language_info": {
   "name": "python",
   "version": "3.9.16",
   "mimetype": "text/x-python",
   "codemirror_mode": {
    "name": "ipython",
    "version": 3
   },
   "pygments_lexer": "ipython3",
   "nbconvert_exporter": "python",
   "file_extension": ".py"
  },
  "kernelspec": {
   "name": "python3",
   "display_name": "Python 3.9.16 64-bit"
  },
  "interpreter": {
   "hash": "e1b737e68dddd0a72d6287bf4b1fcb1b62ad925a428884dbf1470bdc94981d78"
  }
 },
 "nbformat": 4,
 "nbformat_minor": 2
}